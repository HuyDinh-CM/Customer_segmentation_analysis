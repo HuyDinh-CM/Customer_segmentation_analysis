{
  "nbformat": 4,
  "nbformat_minor": 0,
  "metadata": {
    "colab": {
      "provenance": [],
      "collapsed_sections": [
        "Wc0QZZzhOwnS",
        "UiCQxOobb-w0",
        "qZxiwbaVTu0i",
        "Q-s19SpLT6Pr",
        "omC7vE8fUA10",
        "qDU5dC8unxKI",
        "uIiGKzVrnmPy"
      ]
    },
    "kernelspec": {
      "name": "python3",
      "display_name": "Python 3"
    },
    "language_info": {
      "name": "python"
    }
  },
  "cells": [
    {
      "cell_type": "markdown",
      "source": [
        "#Project: Application of RFM model in customer segmentation"
      ],
      "metadata": {
        "id": "z6FMiSpauyhE"
      }
    },
    {
      "cell_type": "markdown",
      "source": [
        "### RFM model overview:\n",
        "RFM Model (Recency, Frequency, Monetary) is an essential tool in marketing and data analysis, helping to classify customers based on their purchasing behavior. RFM Model uses three crucial metrics to evaluate each customer:\n",
        "\n",
        "- Recency (R): Time since the customer's last purchase. The more recent a customer buys (, the lower the Recency), the more likely they are to show an interest in your product or service.\n",
        "\n",
        "- Frequency (F): The frequency of customer purchases in a certain period. The more often a customer makes a purchase (the higher the frequency), the more likely they are to be considered loyal.\n",
        "\n",
        "- Monetary (M): Total purchase value of customers in a certain period. The more money a customer spends (, the higher the monetary), the more likely they are to consider them a high-value customer.\n",
        "\n",
        "RFM Model divides customers into groups based on R, F, and M metrics, helping businesses identify and optimize marketing and customer care strategies."
      ],
      "metadata": {
        "id": "n0qcc8CcObr0"
      }
    },
    {
      "cell_type": "markdown",
      "source": [
        "### Import Libaries & reading dataset"
      ],
      "metadata": {
        "id": "Wc0QZZzhOwnS"
      }
    },
    {
      "cell_type": "code",
      "execution_count": 2,
      "metadata": {
        "id": "ZVR-HlfWuWZt"
      },
      "outputs": [],
      "source": [
        "import pandas as pd\n",
        "import datetime as dt\n",
        "import numpy as np\n",
        "import matplotlib.pyplot as plt\n",
        "import seaborn as sns"
      ]
    },
    {
      "cell_type": "code",
      "source": [
        "# Read data from two files 'Customer_Demographic_Clean.csv' and 'Transaction_Clean.csv'\n",
        "customer_demographic = pd.read_csv('Customer_Demographic_Clean.csv', encoding='utf-8')\n",
        "transaction_data = pd.read_csv('Transaction_Clean.csv', encoding='utf-8')"
      ],
      "metadata": {
        "id": "dqmZM0bTz_Ud"
      },
      "execution_count": 3,
      "outputs": []
    },
    {
      "cell_type": "code",
      "source": [
        "# Merge two DataFrames based on column 'customer_id'\n",
        "df_customer = pd.merge(customer_demographic, transaction_data, on='customer_id')"
      ],
      "metadata": {
        "id": "blU7NnP60yVo"
      },
      "execution_count": 4,
      "outputs": []
    },
    {
      "cell_type": "code",
      "source": [
        "df_customer.info()"
      ],
      "metadata": {
        "colab": {
          "base_uri": "https://localhost:8080/"
        },
        "id": "XLOKo7fG_XzO",
        "outputId": "850fb846-504d-4649-ffbe-05a45d02397d"
      },
      "execution_count": 5,
      "outputs": [
        {
          "output_type": "stream",
          "name": "stdout",
          "text": [
            "<class 'pandas.core.frame.DataFrame'>\n",
            "Int64Index: 19354 entries, 0 to 19353\n",
            "Data columns (total 31 columns):\n",
            " #   Column                               Non-Null Count  Dtype  \n",
            "---  ------                               --------------  -----  \n",
            " 0   customer_id                          19354 non-null  int64  \n",
            " 1   first_name                           19354 non-null  object \n",
            " 2   last_name                            19354 non-null  object \n",
            " 3   gender                               19354 non-null  object \n",
            " 4   past_3_years_bike_related_purchases  19354 non-null  int64  \n",
            " 5   DOB                                  19354 non-null  object \n",
            " 6   job_title                            19354 non-null  object \n",
            " 7   job_industry_category                19354 non-null  object \n",
            " 8   wealth_segment                       19354 non-null  object \n",
            " 9   deceased_indicator                   19354 non-null  object \n",
            " 10  owns_car                             19354 non-null  object \n",
            " 11  tenure                               19354 non-null  float64\n",
            " 12  Age                                  19354 non-null  int64  \n",
            " 13  address                              19327 non-null  object \n",
            " 14  postcode                             19327 non-null  float64\n",
            " 15  state                                19327 non-null  object \n",
            " 16  country                              19327 non-null  object \n",
            " 17  property_valuation                   19327 non-null  float64\n",
            " 18  transaction_id                       19354 non-null  int64  \n",
            " 19  product_id                           19354 non-null  int64  \n",
            " 20  transaction_date                     19354 non-null  object \n",
            " 21  online_order                         19354 non-null  float64\n",
            " 22  order_status                         19354 non-null  object \n",
            " 23  brand                                19354 non-null  object \n",
            " 24  product_line                         19354 non-null  object \n",
            " 25  product_class                        19354 non-null  object \n",
            " 26  product_size                         19354 non-null  object \n",
            " 27  list_price                           19354 non-null  float64\n",
            " 28  standard_cost                        19354 non-null  float64\n",
            " 29  product_first_sold_date              19354 non-null  object \n",
            " 30  profit                               19354 non-null  float64\n",
            "dtypes: float64(7), int64(5), object(19)\n",
            "memory usage: 4.7+ MB\n"
          ]
        }
      ]
    },
    {
      "cell_type": "markdown",
      "source": [
        "The columns 'DOB' and 'transaction_date' now have the data type 'object', which is usually the data type for strings in Pandas. To convert them to the correct data type 'datetime', I can use Pandas' pd.to_datetime() method."
      ],
      "metadata": {
        "id": "tDmgA-Zg_kQp"
      }
    },
    {
      "cell_type": "code",
      "source": [
        "# Convert 'DOB' and 'transaction_date' columns to datetime data type\n",
        "df_customer['DOB'] = pd.to_datetime(df_customer['DOB'])\n",
        "df_customer['transaction_date'] = pd.to_datetime(df_customer['transaction_date'])\n",
        "\n",
        "# Check data type after conversion\n",
        "print(df_customer.dtypes)"
      ],
      "metadata": {
        "colab": {
          "base_uri": "https://localhost:8080/"
        },
        "id": "iaHwuGiC_XwL",
        "outputId": "54498037-3d8c-4627-b7ed-253ed1b87edc"
      },
      "execution_count": 6,
      "outputs": [
        {
          "output_type": "stream",
          "name": "stdout",
          "text": [
            "customer_id                                     int64\n",
            "first_name                                     object\n",
            "last_name                                      object\n",
            "gender                                         object\n",
            "past_3_years_bike_related_purchases             int64\n",
            "DOB                                    datetime64[ns]\n",
            "job_title                                      object\n",
            "job_industry_category                          object\n",
            "wealth_segment                                 object\n",
            "deceased_indicator                             object\n",
            "owns_car                                       object\n",
            "tenure                                        float64\n",
            "Age                                             int64\n",
            "address                                        object\n",
            "postcode                                      float64\n",
            "state                                          object\n",
            "country                                        object\n",
            "property_valuation                            float64\n",
            "transaction_id                                  int64\n",
            "product_id                                      int64\n",
            "transaction_date                       datetime64[ns]\n",
            "online_order                                  float64\n",
            "order_status                                   object\n",
            "brand                                          object\n",
            "product_line                                   object\n",
            "product_class                                  object\n",
            "product_size                                   object\n",
            "list_price                                    float64\n",
            "standard_cost                                 float64\n",
            "product_first_sold_date                        object\n",
            "profit                                        float64\n",
            "dtype: object\n"
          ]
        }
      ]
    },
    {
      "cell_type": "markdown",
      "source": [
        "Tạo DataFrame df_rfm để lưu thông tin của các điểm RFM và các phần tử Recency, Frequency và Monetary theo từng customer_id."
      ],
      "metadata": {
        "id": "btQjSzKPaIyE"
      }
    },
    {
      "cell_type": "code",
      "source": [
        "# Create DataFrame df_rfm to store information of RFM . points\n",
        "df_rfm = df_customer[['customer_id','gender', 'DOB', 'past_3_years_bike_related_purchases', 'transaction_date', 'list_price', 'profit']].copy()\n",
        "\n",
        "# Calculate Recency for each customer\n",
        "current_date = pd.to_datetime('2023-07-30')\n",
        "df_rfm['Recency'] = (current_date - df_rfm['transaction_date']).dt.days\n",
        "\n",
        "# Calculate Frequency for each customer\n",
        "df_rfm_frequency = df_rfm.groupby('customer_id')['transaction_date'].count().reset_index()\n",
        "df_rfm_frequency.rename(columns={'transaction_date': 'Frequency'}, inplace=True)\n",
        "df_rfm = pd.merge(df_rfm, df_rfm_frequency, on='customer_id', how='left')\n",
        "\n",
        "# Calculate Monetary for each customer\n",
        "df_rfm_monetary = df_rfm.groupby('customer_id')['list_price'].sum().reset_index()\n",
        "df_rfm_monetary.rename(columns={'list_price': 'Monetary'}, inplace=True)\n",
        "df_rfm = pd.merge(df_rfm, df_rfm_monetary, on='customer_id', how='left')\n"
      ],
      "metadata": {
        "id": "BHOwqAhM_XtG"
      },
      "execution_count": 7,
      "outputs": []
    },
    {
      "cell_type": "markdown",
      "source": [
        "In this step, we have created DataFrame df_rfm to store information on RFM points and Recency, Frequency, and Monetary elements for each customer_id.\n",
        "First, we copy the columns 'customer_id,' 'DOB,' 'past_3_years_bike_related_purchases', 'transaction_date,' 'list_price,' and 'profit' from df_customer to df_rfm.\n",
        "\n",
        "Next, we calculate the Recency for each customer by calculating the number of days since the last purchase (from the current date '2023-07-30') and save the result in the 'Recency' column.\n",
        "\n",
        "Then we calculate the Frequency for each customer by grouping the data by 'customer_id' and count the number of transactions (Frequency of purchase) and save the result in the 'Frequency' column.\n",
        "\n",
        "Finally, we calculate the Monetary for each customer by grouping the data by 'customer_id', calculating the total transaction value (total purchase amount), and storing the result in the 'Monetary' column."
      ],
      "metadata": {
        "id": "cJMWpCbFb678"
      }
    },
    {
      "cell_type": "markdown",
      "source": [
        "### Continue the rest of the process to calculate the RFM score and categorize customers into 'Customer_Title'groups."
      ],
      "metadata": {
        "id": "UiCQxOobb-w0"
      }
    },
    {
      "cell_type": "code",
      "source": [
        "# Calculate the quartiles of Recency, Frequency and Monetary\n",
        "recency_quartiles = df_rfm['Recency'].quantile(q=[0, 0.25, 0.5, 0.75, 1]).values\n",
        "frequency_quartiles = df_rfm['Frequency'].quantile(q=[0, 0.25, 0.5, 0.75, 1]).values\n",
        "monetary_quartiles = df_rfm['Monetary'].quantile(q=[0, 0.25, 0.5, 0.75, 1]).values\n",
        "\n",
        "# Calculate RFM points for each customer\n",
        "df_rfm['R_Score'] = 4 - pd.qcut(df_rfm['Recency'], q=4, labels=False, duplicates='drop')\n",
        "df_rfm['F_Score'] = pd.qcut(df_rfm['Frequency'], q=4, labels=False)\n",
        "df_rfm['M_Score'] = pd.qcut(df_rfm['Monetary'], q=4, labels=False)\n",
        "\n",
        "# Save the fractional values of Recency, Frequency and Monetary in df_rfm\n",
        "df_rfm['Recency_Quartiles'] = pd.qcut(df_rfm['Recency'], q=4, labels=False).map({0: 'Q1', 1: 'Q2', 2: 'Q3', 3: 'Q4'})\n",
        "df_rfm['Frequency_Quartiles'] = pd.qcut(df_rfm['Frequency'], q=4, labels=False).map({0: 'Q1', 1: 'Q2', 2: 'Q3', 3: 'Q4'})\n",
        "df_rfm['Monetary_Quartiles'] = pd.qcut(df_rfm['Monetary'], q=4, labels=False).map({0: 'Q1', 1: 'Q2', 2: 'Q3', 3: 'Q4'})\n",
        "\n",
        "# Create assign_customer_title function and apply to calculate Customer_Title for each customer\n",
        "def assign_customer_title(row):\n",
        "     if row['R_Score'] in [3, 2, 1, 0] and row['F_Score'] in [0, 1] and row['M_Score'] in [0, 1]:\n",
        "         return 'Bronze'\n",
        "     elif row['R_Score'] in [3, 2] and row['F_Score'] in [2, 3] and row['M_Score'] in [2, 3, 4]:\n",
        "         return 'Silver'\n",
        "     elif row['R_Score'] in [4] and row['F_Score'] in [0, 1, 2, 3] and row['M_Score'] in [0, 1, 2, 3, 4]:\n",
        "         return 'Gold'\n",
        "     elif row['R_Score'] in [4] and row['F_Score'] in [4] and row['M_Score'] in [0, 1, 2, 3, 4]:\n",
        "         return 'Platinum'\n",
        "     else:\n",
        "         return 'Others'\n",
        "\n",
        "df_rfm['Customer_Title'] = df_rfm.apply(assign_customer_title, axis=1)\n"
      ],
      "metadata": {
        "id": "a2ojE320_Xpm"
      },
      "execution_count": 8,
      "outputs": []
    },
    {
      "cell_type": "markdown",
      "source": [
        "\n",
        "Calculate RFM points for each customer: I have used the qcut() method to divide the Recency, Frequency, and Monetary columns data into four elements based on the quartile values calculated in the previous step. Then, use the labels=False method to get numeric values instead of labels for each point and duplicates='drop' to remove duplicates, if any. This result helps you calculate each customer's R_Score, F_Score, and M_Score.\n",
        "\n",
        "- **Saving string quartile values to a DataFrame:** You used the map() method to map the quartile's numerical values to the strings 'Q1', 'Q2', 'Q3', and 'Q4' and save them to columns Recency_Quartiles, Frequency_Quartiles and Monetary_Quartiles in the DataFrame df_rfm.\n",
        "\n",
        "- **Create assign_customer_title() function to classify customers:** You have created an assign_customer_title() function that classifies each customer into 'Bronze', 'Silver', 'Gold', and 'Platinum' groups based on their RFM Score. This function will return the label corresponding to each RFM Score.\n",
        "\n",
        "- **Apply the assign_customer_title() function to each row of the DataFrame:** You used the apply() method with the parameter axis=1 to apply the assign_customer_title() function to each row (customer) of the DataFrame df_rfm and save the result in a column Customer_Title.\n",
        "\n",
        "Now, the DataFrame df_rfm contains the information about the customer's Recency, Frequency, and Monetary, along with the RFM Score and the customer classification (Customer_Title) based on the RFM Score."
      ],
      "metadata": {
        "id": "_WKFssUdcH94"
      }
    },
    {
      "cell_type": "code",
      "source": [
        "df_rfm['Customer_Title'].value_counts()"
      ],
      "metadata": {
        "id": "-QImswLI_XmK",
        "colab": {
          "base_uri": "https://localhost:8080/"
        },
        "outputId": "15391c3b-536f-415f-aabb-3518582ac7b3"
      },
      "execution_count": 9,
      "outputs": [
        {
          "output_type": "execute_result",
          "data": {
            "text/plain": [
              "Bronze    6156\n",
              "Gold      4867\n",
              "Others    4271\n",
              "Silver    4060\n",
              "Name: Customer_Title, dtype: int64"
            ]
          },
          "metadata": {},
          "execution_count": 9
        }
      ]
    },
    {
      "cell_type": "code",
      "source": [
        "# Initialize figures and axes for subplot\n",
        "fig, axes = plt.subplots(2, 2, figsize=(12, 8))\n",
        "# Recency chart\n",
        "sns.histplot(df_rfm['Recency'], bins=20, kde=True, ax=axes[0, 0])\n",
        "axes[0, 0].set_title('Recency Distribution')\n",
        "axes[0, 0].set_xlabel('Recency (days)')\n",
        "\n",
        "# Histogram Frequency\n",
        "sns.countplot(x='Frequency_Quartiles', data=df_rfm, ax=axes[0, 1])\n",
        "axes[0, 1].set_title('Frequency Distribution')\n",
        "axes[0, 1].set_xlabel('Frequency Quartiles')\n",
        "\n",
        "# Monetary chart\n",
        "sns.boxplot(x='Monetary_Quartiles', y='Monetary', data=df_rfm, ax=axes[1, 0])\n",
        "axes[1, 0].set_title('Monetary Distribution')\n",
        "axes[1, 0].set_xlabel('Monetary Quartiles')\n",
        "axes[1, 0].set_ylabel('Monetary')\n",
        "\n",
        "# Customer_Title . chart\n",
        "sns.countplot(x='Customer_Title', data=df_rfm, ax=axes[1, 1], order=['Bronze', 'Silver', 'Gold', 'Platinum'])\n",
        "axes[1, 1].set_title('Customer Title Distribution')\n",
        "axes[1, 1].set_xlabel('Customer Title')\n",
        "\n",
        "# Show chart\n",
        "plt.tight_layout()\n",
        "plt.show()"
      ],
      "metadata": {
        "id": "OWfi5Y5F_XjG",
        "colab": {
          "base_uri": "https://localhost:8080/",
          "height": 807
        },
        "outputId": "719b5a84-6827-4c0e-df3a-bb1cfa112004"
      },
      "execution_count": 10,
      "outputs": [
        {
          "output_type": "display_data",
          "data": {
            "text/plain": [
              "<Figure size 1200x800 with 4 Axes>"
            ],
            "image/png": "[encoded data removed]"
          },
          "metadata": {}
        }
      ]
    },
    {
      "cell_type": "markdown",
      "source": [
        "- **Recency Distribution:** Use a histogram to represent the distribution of Recency (number of days since last purchase) in a DataFrame df_rfm. The code uses sns.histplot() to generate a histogram with 20 bins and KDE (Kernel Density Estimation) to estimate the probability density function.\n",
        "\n",
        "- **Frequency Distribution:** Use a bar plot (countplot) to represent the distribution of Frequency based on Quartiles. The code uses sns.countplot() and passes data from the 'Frequency_Quartiles' column in the DataFrame df_rfm.\n",
        "\n",
        "- **Monetary Distribution:** Use the box plot to show the distribution of the Monetary (value of money spent) based on the Quartiles. The code snippet uses sns.boxplot() and passes data from the 'Monetary_Quartiles' column as the x-axis and the 'Monetary' column as the y-axis.\n",
        "\n",
        "- **Customer Title Distribution:** Use a bar plot (countplot) to show the distribution of Customer Title based on groups ['Bronze', 'Silver', 'Gold' ', 'Platinum']. The code snippet uses sns.countplot() and passes data from the 'Customer_Title' column in the DataFrame df_rfm.\n",
        "\n",
        "- **Show charts:** Use plt.tight_layout() to align the charts so they don't overlap, and use plt.show() to show all charts.\n",
        "\n",
        "With the above code, We will have a figure of 2x2 subplot containing histograms showing the distribution and classification based on the RFM Score of the DataFrame df_rfm."
      ],
      "metadata": {
        "id": "nfZeC9vgTsk5"
      }
    },
    {
      "cell_type": "markdown",
      "source": [
        "### Grouping Age base on DOB"
      ],
      "metadata": {
        "id": "qZxiwbaVTu0i"
      }
    },
    {
      "cell_type": "code",
      "source": [
        "# Calculate age and add column 'Age' to df_rfm\n",
        "df_rfm['Age'] = (current_date - df_rfm['DOB']).dt.days // 365"
      ],
      "metadata": {
        "id": "yKlqDsrU_Xfm"
      },
      "execution_count": 11,
      "outputs": []
    },
    {
      "cell_type": "code",
      "source": [
        "df_rfm"
      ],
      "metadata": {
        "id": "vl4HPSMW_XcX",
        "colab": {
          "base_uri": "https://localhost:8080/",
          "height": 661
        },
        "outputId": "61994f84-9c52-497f-b7f5-5b257bd968b7"
      },
      "execution_count": 12,
      "outputs": [
        {
          "output_type": "execute_result",
          "data": {
            "text/plain": [
              "       customer_id  gender        DOB  past_3_years_bike_related_purchases  \\\n",
              "0                1  Female 1953-10-12                                   93   \n",
              "1                1  Female 1953-10-12                                   93   \n",
              "2                1  Female 1953-10-12                                   93   \n",
              "3                1  Female 1953-10-12                                   93   \n",
              "4                1  Female 1953-10-12                                   93   \n",
              "...            ...     ...        ...                                  ...   \n",
              "19349         3500  Female 1967-07-21                                   71   \n",
              "19350         3500  Female 1967-07-21                                   71   \n",
              "19351         3500  Female 1967-07-21                                   71   \n",
              "19352         3500  Female 1967-07-21                                   71   \n",
              "19353         3500  Female 1967-07-21                                   71   \n",
              "\n",
              "      transaction_date  list_price  profit  Recency  Frequency  Monetary  \\\n",
              "0           2017-12-23      235.63  110.56     2045         11   9084.45   \n",
              "1           2017-04-06     1577.53  751.02     2306         11   9084.45   \n",
              "2           2017-05-11     1720.70  189.28     2271         11   9084.45   \n",
              "3           2017-01-05      360.40   90.10     2397         11   9084.45   \n",
              "4           2017-02-21       71.49   17.87     2350         11   9084.45   \n",
              "...                ...         ...     ...      ...        ...       ...   \n",
              "19349       2017-01-09      792.90  198.22     2393          6   4922.41   \n",
              "19350       2017-02-16     1228.07  827.16     2355          6   4922.41   \n",
              "19351       2017-08-08     1311.44  144.26     2182          6   4922.41   \n",
              "19352       2017-01-11       60.34   15.08     2391          6   4922.41   \n",
              "19353       2017-03-14     1458.17  583.27     2329          6   4922.41   \n",
              "\n",
              "       R_Score  F_Score  M_Score Recency_Quartiles Frequency_Quartiles  \\\n",
              "0            4        3        2                Q1                  Q4   \n",
              "1            2        3        2                Q3                  Q4   \n",
              "2            2        3        2                Q3                  Q4   \n",
              "3            1        3        2                Q4                  Q4   \n",
              "4            1        3        2                Q4                  Q4   \n",
              "...        ...      ...      ...               ...                 ...   \n",
              "19349        1        1        0                Q4                  Q2   \n",
              "19350        1        1        0                Q4                  Q2   \n",
              "19351        3        1        0                Q2                  Q2   \n",
              "19352        1        1        0                Q4                  Q2   \n",
              "19353        1        1        0                Q4                  Q2   \n",
              "\n",
              "      Monetary_Quartiles Customer_Title  Age  \n",
              "0                     Q3           Gold   69  \n",
              "1                     Q3         Silver   69  \n",
              "2                     Q3         Silver   69  \n",
              "3                     Q3         Others   69  \n",
              "4                     Q3         Others   69  \n",
              "...                  ...            ...  ...  \n",
              "19349                 Q1         Bronze   56  \n",
              "19350                 Q1         Bronze   56  \n",
              "19351                 Q1         Bronze   56  \n",
              "19352                 Q1         Bronze   56  \n",
              "19353                 Q1         Bronze   56  \n",
              "\n",
              "[19354 rows x 18 columns]"
            ],
            "text/html": [
              "\n",
              "\n",
              "  <div id=\"df-b79a86e0-a2d1-4e82-b66b-55d2e53185d4\">\n",
              "    <div class=\"colab-df-container\">\n",
              "      <div>\n",
              "<style scoped>\n",
              "    .dataframe tbody tr th:only-of-type {\n",
              "        vertical-align: middle;\n",
              "    }\n",
              "\n",
              "    .dataframe tbody tr th {\n",
              "        vertical-align: top;\n",
              "    }\n",
              "\n",
              "    .dataframe thead th {\n",
              "        text-align: right;\n",
              "    }\n",
              "</style>\n",
              "<table border=\"1\" class=\"dataframe\">\n",
              "  <thead>\n",
              "    <tr style=\"text-align: right;\">\n",
              "      <th></th>\n",
              "      <th>customer_id</th>\n",
              "      <th>gender</th>\n",
              "      <th>DOB</th>\n",
              "      <th>past_3_years_bike_related_purchases</th>\n",
              "      <th>transaction_date</th>\n",
              "      <th>list_price</th>\n",
              "      <th>profit</th>\n",
              "      <th>Recency</th>\n",
              "      <th>Frequency</th>\n",
              "      <th>Monetary</th>\n",
              "      <th>R_Score</th>\n",
              "      <th>F_Score</th>\n",
              "      <th>M_Score</th>\n",
              "      <th>Recency_Quartiles</th>\n",
              "      <th>Frequency_Quartiles</th>\n",
              "      <th>Monetary_Quartiles</th>\n",
              "      <th>Customer_Title</th>\n",
              "      <th>Age</th>\n",
              "    </tr>\n",
              "  </thead>\n",
              "  <tbody>\n",
              "    <tr>\n",
              "      <th>0</th>\n",
              "      <td>1</td>\n",
              "      <td>Female</td>\n",
              "      <td>1953-10-12</td>\n",
              "      <td>93</td>\n",
              "      <td>2017-12-23</td>\n",
              "      <td>235.63</td>\n",
              "      <td>110.56</td>\n",
              "      <td>2045</td>\n",
              "      <td>11</td>\n",
              "      <td>9084.45</td>\n",
              "      <td>4</td>\n",
              "      <td>3</td>\n",
              "      <td>2</td>\n",
              "      <td>Q1</td>\n",
              "      <td>Q4</td>\n",
              "      <td>Q3</td>\n",
              "      <td>Gold</td>\n",
              "      <td>69</td>\n",
              "    </tr>\n",
              "    <tr>\n",
              "      <th>1</th>\n",
              "      <td>1</td>\n",
              "      <td>Female</td>\n",
              "      <td>1953-10-12</td>\n",
              "      <td>93</td>\n",
              "      <td>2017-04-06</td>\n",
              "      <td>1577.53</td>\n",
              "      <td>751.02</td>\n",
              "      <td>2306</td>\n",
              "      <td>11</td>\n",
              "      <td>9084.45</td>\n",
              "      <td>2</td>\n",
              "      <td>3</td>\n",
              "      <td>2</td>\n",
              "      <td>Q3</td>\n",
              "      <td>Q4</td>\n",
              "      <td>Q3</td>\n",
              "      <td>Silver</td>\n",
              "      <td>69</td>\n",
              "    </tr>\n",
              "    <tr>\n",
              "      <th>2</th>\n",
              "      <td>1</td>\n",
              "      <td>Female</td>\n",
              "      <td>1953-10-12</td>\n",
              "      <td>93</td>\n",
              "      <td>2017-05-11</td>\n",
              "      <td>1720.70</td>\n",
              "      <td>189.28</td>\n",
              "      <td>2271</td>\n",
              "      <td>11</td>\n",
              "      <td>9084.45</td>\n",
              "      <td>2</td>\n",
              "      <td>3</td>\n",
              "      <td>2</td>\n",
              "      <td>Q3</td>\n",
              "      <td>Q4</td>\n",
              "      <td>Q3</td>\n",
              "      <td>Silver</td>\n",
              "      <td>69</td>\n",
              "    </tr>\n",
              "    <tr>\n",
              "      <th>3</th>\n",
              "      <td>1</td>\n",
              "      <td>Female</td>\n",
              "      <td>1953-10-12</td>\n",
              "      <td>93</td>\n",
              "      <td>2017-01-05</td>\n",
              "      <td>360.40</td>\n",
              "      <td>90.10</td>\n",
              "      <td>2397</td>\n",
              "      <td>11</td>\n",
              "      <td>9084.45</td>\n",
              "      <td>1</td>\n",
              "      <td>3</td>\n",
              "      <td>2</td>\n",
              "      <td>Q4</td>\n",
              "      <td>Q4</td>\n",
              "      <td>Q3</td>\n",
              "      <td>Others</td>\n",
              "      <td>69</td>\n",
              "    </tr>\n",
              "    <tr>\n",
              "      <th>4</th>\n",
              "      <td>1</td>\n",
              "      <td>Female</td>\n",
              "      <td>1953-10-12</td>\n",
              "      <td>93</td>\n",
              "      <td>2017-02-21</td>\n",
              "      <td>71.49</td>\n",
              "      <td>17.87</td>\n",
              "      <td>2350</td>\n",
              "      <td>11</td>\n",
              "      <td>9084.45</td>\n",
              "      <td>1</td>\n",
              "      <td>3</td>\n",
              "      <td>2</td>\n",
              "      <td>Q4</td>\n",
              "      <td>Q4</td>\n",
              "      <td>Q3</td>\n",
              "      <td>Others</td>\n",
              "      <td>69</td>\n",
              "    </tr>\n",
              "    <tr>\n",
              "      <th>...</th>\n",
              "      <td>...</td>\n",
              "      <td>...</td>\n",
              "      <td>...</td>\n",
              "      <td>...</td>\n",
              "      <td>...</td>\n",
              "      <td>...</td>\n",
              "      <td>...</td>\n",
              "      <td>...</td>\n",
              "      <td>...</td>\n",
              "      <td>...</td>\n",
              "      <td>...</td>\n",
              "      <td>...</td>\n",
              "      <td>...</td>\n",
              "      <td>...</td>\n",
              "      <td>...</td>\n",
              "      <td>...</td>\n",
              "      <td>...</td>\n",
              "      <td>...</td>\n",
              "    </tr>\n",
              "    <tr>\n",
              "      <th>19349</th>\n",
              "      <td>3500</td>\n",
              "      <td>Female</td>\n",
              "      <td>1967-07-21</td>\n",
              "      <td>71</td>\n",
              "      <td>2017-01-09</td>\n",
              "      <td>792.90</td>\n",
              "      <td>198.22</td>\n",
              "      <td>2393</td>\n",
              "      <td>6</td>\n",
              "      <td>4922.41</td>\n",
              "      <td>1</td>\n",
              "      <td>1</td>\n",
              "      <td>0</td>\n",
              "      <td>Q4</td>\n",
              "      <td>Q2</td>\n",
              "      <td>Q1</td>\n",
              "      <td>Bronze</td>\n",
              "      <td>56</td>\n",
              "    </tr>\n",
              "    <tr>\n",
              "      <th>19350</th>\n",
              "      <td>3500</td>\n",
              "      <td>Female</td>\n",
              "      <td>1967-07-21</td>\n",
              "      <td>71</td>\n",
              "      <td>2017-02-16</td>\n",
              "      <td>1228.07</td>\n",
              "      <td>827.16</td>\n",
              "      <td>2355</td>\n",
              "      <td>6</td>\n",
              "      <td>4922.41</td>\n",
              "      <td>1</td>\n",
              "      <td>1</td>\n",
              "      <td>0</td>\n",
              "      <td>Q4</td>\n",
              "      <td>Q2</td>\n",
              "      <td>Q1</td>\n",
              "      <td>Bronze</td>\n",
              "      <td>56</td>\n",
              "    </tr>\n",
              "    <tr>\n",
              "      <th>19351</th>\n",
              "      <td>3500</td>\n",
              "      <td>Female</td>\n",
              "      <td>1967-07-21</td>\n",
              "      <td>71</td>\n",
              "      <td>2017-08-08</td>\n",
              "      <td>1311.44</td>\n",
              "      <td>144.26</td>\n",
              "      <td>2182</td>\n",
              "      <td>6</td>\n",
              "      <td>4922.41</td>\n",
              "      <td>3</td>\n",
              "      <td>1</td>\n",
              "      <td>0</td>\n",
              "      <td>Q2</td>\n",
              "      <td>Q2</td>\n",
              "      <td>Q1</td>\n",
              "      <td>Bronze</td>\n",
              "      <td>56</td>\n",
              "    </tr>\n",
              "    <tr>\n",
              "      <th>19352</th>\n",
              "      <td>3500</td>\n",
              "      <td>Female</td>\n",
              "      <td>1967-07-21</td>\n",
              "      <td>71</td>\n",
              "      <td>2017-01-11</td>\n",
              "      <td>60.34</td>\n",
              "      <td>15.08</td>\n",
              "      <td>2391</td>\n",
              "      <td>6</td>\n",
              "      <td>4922.41</td>\n",
              "      <td>1</td>\n",
              "      <td>1</td>\n",
              "      <td>0</td>\n",
              "      <td>Q4</td>\n",
              "      <td>Q2</td>\n",
              "      <td>Q1</td>\n",
              "      <td>Bronze</td>\n",
              "      <td>56</td>\n",
              "    </tr>\n",
              "    <tr>\n",
              "      <th>19353</th>\n",
              "      <td>3500</td>\n",
              "      <td>Female</td>\n",
              "      <td>1967-07-21</td>\n",
              "      <td>71</td>\n",
              "      <td>2017-03-14</td>\n",
              "      <td>1458.17</td>\n",
              "      <td>583.27</td>\n",
              "      <td>2329</td>\n",
              "      <td>6</td>\n",
              "      <td>4922.41</td>\n",
              "      <td>1</td>\n",
              "      <td>1</td>\n",
              "      <td>0</td>\n",
              "      <td>Q4</td>\n",
              "      <td>Q2</td>\n",
              "      <td>Q1</td>\n",
              "      <td>Bronze</td>\n",
              "      <td>56</td>\n",
              "    </tr>\n",
              "  </tbody>\n",
              "</table>\n",
              "<p>19354 rows × 18 columns</p>\n",
              "</div>\n",
              "      <button class=\"colab-df-convert\" onclick=\"convertToInteractive('df-b79a86e0-a2d1-4e82-b66b-55d2e53185d4')\"\n",
              "              title=\"Convert this dataframe to an interactive table.\"\n",
              "              style=\"display:none;\">\n",
              "\n",
              "  <svg xmlns=\"http://www.w3.org/2000/svg\" height=\"24px\"viewBox=\"0 0 24 24\"\n",
              "       width=\"24px\">\n",
              "    <path d=\"M0 0h24v24H0V0z\" fill=\"none\"/>\n",
              "    <path d=\"M18.56 5.44l.94 2.06.94-2.06 2.06-.94-2.06-.94-.94-2.06-.94 2.06-2.06.94zm-11 1L8.5 8.5l.94-2.06 2.06-.94-2.06-.94L8.5 2.5l-.94 2.06-2.06.94zm10 10l.94 2.06.94-2.06 2.06-.94-2.06-.94-.94-2.06-.94 2.06-2.06.94z\"/><path d=\"M17.41 7.96l-1.37-1.37c-.4-.4-.92-.59-1.43-.59-.52 0-1.04.2-1.43.59L10.3 9.45l-7.72 7.72c-.78.78-.78 2.05 0 2.83L4 21.41c.39.39.9.59 1.41.59.51 0 1.02-.2 1.41-.59l7.78-7.78 2.81-2.81c.8-.78.8-2.07 0-2.86zM5.41 20L4 18.59l7.72-7.72 1.47 1.35L5.41 20z\"/>\n",
              "  </svg>\n",
              "      </button>\n",
              "\n",
              "\n",
              "\n",
              "    <div id=\"df-cad0f117-9d1a-4fe5-ae08-684a70178e13\">\n",
              "      <button class=\"colab-df-quickchart\" onclick=\"quickchart('df-cad0f117-9d1a-4fe5-ae08-684a70178e13')\"\n",
              "              title=\"Suggest charts.\"\n",
              "              style=\"display:none;\">\n",
              "\n",
              "<svg xmlns=\"http://www.w3.org/2000/svg\" height=\"24px\"viewBox=\"0 0 24 24\"\n",
              "     width=\"24px\">\n",
              "    <g>\n",
              "        <path d=\"M19 3H5c-1.1 0-2 .9-2 2v14c0 1.1.9 2 2 2h14c1.1 0 2-.9 2-2V5c0-1.1-.9-2-2-2zM9 17H7v-7h2v7zm4 0h-2V7h2v10zm4 0h-2v-4h2v4z\"/>\n",
              "    </g>\n",
              "</svg>\n",
              "      </button>\n",
              "    </div>\n",
              "\n",
              "<style>\n",
              "  .colab-df-quickchart {\n",
              "    background-color: #E8F0FE;\n",
              "    border: none;\n",
              "    border-radius: 50%;\n",
              "    cursor: pointer;\n",
              "    display: none;\n",
              "    fill: #1967D2;\n",
              "    height: 32px;\n",
              "    padding: 0 0 0 0;\n",
              "    width: 32px;\n",
              "  }\n",
              "\n",
              "  .colab-df-quickchart:hover {\n",
              "    background-color: #E2EBFA;\n",
              "    box-shadow: 0px 1px 2px rgba(60, 64, 67, 0.3), 0px 1px 3px 1px rgba(60, 64, 67, 0.15);\n",
              "    fill: #174EA6;\n",
              "  }\n",
              "\n",
              "  [theme=dark] .colab-df-quickchart {\n",
              "    background-color: #3B4455;\n",
              "    fill: #D2E3FC;\n",
              "  }\n",
              "\n",
              "  [theme=dark] .colab-df-quickchart:hover {\n",
              "    background-color: #434B5C;\n",
              "    box-shadow: 0px 1px 3px 1px rgba(0, 0, 0, 0.15);\n",
              "    filter: drop-shadow(0px 1px 2px rgba(0, 0, 0, 0.3));\n",
              "    fill: #FFFFFF;\n",
              "  }\n",
              "</style>\n",
              "\n",
              "    <script>\n",
              "      async function quickchart(key) {\n",
              "        const containerElement = document.querySelector('#' + key);\n",
              "        const charts = await google.colab.kernel.invokeFunction(\n",
              "            'suggestCharts', [key], {});\n",
              "      }\n",
              "    </script>\n",
              "\n",
              "      <script>\n",
              "\n",
              "function displayQuickchartButton(domScope) {\n",
              "  let quickchartButtonEl =\n",
              "    domScope.querySelector('#df-cad0f117-9d1a-4fe5-ae08-684a70178e13 button.colab-df-quickchart');\n",
              "  quickchartButtonEl.style.display =\n",
              "    google.colab.kernel.accessAllowed ? 'block' : 'none';\n",
              "}\n",
              "\n",
              "        displayQuickchartButton(document);\n",
              "      </script>\n",
              "      <style>\n",
              "    .colab-df-container {\n",
              "      display:flex;\n",
              "      flex-wrap:wrap;\n",
              "      gap: 12px;\n",
              "    }\n",
              "\n",
              "    .colab-df-convert {\n",
              "      background-color: #E8F0FE;\n",
              "      border: none;\n",
              "      border-radius: 50%;\n",
              "      cursor: pointer;\n",
              "      display: none;\n",
              "      fill: #1967D2;\n",
              "      height: 32px;\n",
              "      padding: 0 0 0 0;\n",
              "      width: 32px;\n",
              "    }\n",
              "\n",
              "    .colab-df-convert:hover {\n",
              "      background-color: #E2EBFA;\n",
              "      box-shadow: 0px 1px 2px rgba(60, 64, 67, 0.3), 0px 1px 3px 1px rgba(60, 64, 67, 0.15);\n",
              "      fill: #174EA6;\n",
              "    }\n",
              "\n",
              "    [theme=dark] .colab-df-convert {\n",
              "      background-color: #3B4455;\n",
              "      fill: #D2E3FC;\n",
              "    }\n",
              "\n",
              "    [theme=dark] .colab-df-convert:hover {\n",
              "      background-color: #434B5C;\n",
              "      box-shadow: 0px 1px 3px 1px rgba(0, 0, 0, 0.15);\n",
              "      filter: drop-shadow(0px 1px 2px rgba(0, 0, 0, 0.3));\n",
              "      fill: #FFFFFF;\n",
              "    }\n",
              "  </style>\n",
              "\n",
              "      <script>\n",
              "        const buttonEl =\n",
              "          document.querySelector('#df-b79a86e0-a2d1-4e82-b66b-55d2e53185d4 button.colab-df-convert');\n",
              "        buttonEl.style.display =\n",
              "          google.colab.kernel.accessAllowed ? 'block' : 'none';\n",
              "\n",
              "        async function convertToInteractive(key) {\n",
              "          const element = document.querySelector('#df-b79a86e0-a2d1-4e82-b66b-55d2e53185d4');\n",
              "          const dataTable =\n",
              "            await google.colab.kernel.invokeFunction('convertToInteractive',\n",
              "                                                     [key], {});\n",
              "          if (!dataTable) return;\n",
              "\n",
              "          const docLinkHtml = 'Like what you see? Visit the ' +\n",
              "            '<a target=\"_blank\" href=https://colab.research.google.com/notebooks/data_table.ipynb>data table notebook</a>'\n",
              "            + ' to learn more about interactive tables.';\n",
              "          element.innerHTML = '';\n",
              "          dataTable['output_type'] = 'display_data';\n",
              "          await google.colab.output.renderOutput(dataTable, element);\n",
              "          const docLink = document.createElement('div');\n",
              "          docLink.innerHTML = docLinkHtml;\n",
              "          element.appendChild(docLink);\n",
              "        }\n",
              "      </script>\n",
              "    </div>\n",
              "  </div>\n"
            ]
          },
          "metadata": {},
          "execution_count": 12
        }
      ]
    },
    {
      "cell_type": "markdown",
      "source": [
        "### Define get_customer_segment function to return the corresponding category based on the RFM Score"
      ],
      "metadata": {
        "id": "Q-s19SpLT6Pr"
      }
    },
    {
      "cell_type": "code",
      "source": [
        "# Define get_customer_segment function to return the corresponding category based on the RFM Score\n",
        "def get_customer_segment(row):\n",
        "     rfm_score = int(str(row['R_Score']) + str(row['F_Score']) + str(row['M_Score']))\n",
        "     if rfm_score >= 444:\n",
        "         return 'Platinum Customer'\n",
        "     elif rfm_score >= 433 and rfm_score < 444:\n",
        "         return 'Very Loyal'\n",
        "     elif rfm_score >= 421 and rfm_score < 433:\n",
        "         return 'Becoming Loyal'\n",
        "     elif rfm_score >= 344 and rfm_score < 421:\n",
        "         return 'Recent Customer'\n",
        "     elif rfm_score >= 323 and rfm_score < 344:\n",
        "         return 'Potential Customer'\n",
        "     elif rfm_score >= 311 and rfm_score < 323:\n",
        "         return 'Late Bloomer'\n",
        "     elif rfm_score >= 224 and rfm_score < 311:\n",
        "         return 'Loosing Customer'\n",
        "     elif rfm_score >= 212 and rfm_score < 224:\n",
        "         return 'High Risk Customer'\n",
        "     elif rfm_score >= 124 and rfm_score < 212:\n",
        "         return 'Almost Lost Customer'\n",
        "     elif rfm_score >= 112 and rfm_score < 124:\n",
        "         return 'Evasive Customer'\n",
        "     else:\n",
        "         return 'Lost Customer'"
      ],
      "metadata": {
        "id": "ChbOSPA5_XYy"
      },
      "execution_count": 13,
      "outputs": []
    },
    {
      "cell_type": "code",
      "source": [
        "# Apply the get_customer_segment function to calculate the taxonomy for each customer and save the result in the 'customer_segmentation' column\n",
        "df_rfm['customer_segmentation'] = df_rfm.apply(get_customer_segment, axis=1)"
      ],
      "metadata": {
        "id": "OXwXcPxL_XVq"
      },
      "execution_count": 14,
      "outputs": []
    },
    {
      "cell_type": "code",
      "source": [
        "df_rfm.head()"
      ],
      "metadata": {
        "colab": {
          "base_uri": "https://localhost:8080/",
          "height": 357
        },
        "id": "-eyYKMXSjCpM",
        "outputId": "2814d71e-e147-4d59-d4f2-5161a9688622"
      },
      "execution_count": 15,
      "outputs": [
        {
          "output_type": "execute_result",
          "data": {
            "text/plain": [
              "   customer_id  gender        DOB  past_3_years_bike_related_purchases  \\\n",
              "0            1  Female 1953-10-12                                   93   \n",
              "1            1  Female 1953-10-12                                   93   \n",
              "2            1  Female 1953-10-12                                   93   \n",
              "3            1  Female 1953-10-12                                   93   \n",
              "4            1  Female 1953-10-12                                   93   \n",
              "\n",
              "  transaction_date  list_price  profit  Recency  Frequency  Monetary  R_Score  \\\n",
              "0       2017-12-23      235.63  110.56     2045         11   9084.45        4   \n",
              "1       2017-04-06     1577.53  751.02     2306         11   9084.45        2   \n",
              "2       2017-05-11     1720.70  189.28     2271         11   9084.45        2   \n",
              "3       2017-01-05      360.40   90.10     2397         11   9084.45        1   \n",
              "4       2017-02-21       71.49   17.87     2350         11   9084.45        1   \n",
              "\n",
              "   F_Score  M_Score Recency_Quartiles Frequency_Quartiles Monetary_Quartiles  \\\n",
              "0        3        2                Q1                  Q4                 Q3   \n",
              "1        3        2                Q3                  Q4                 Q3   \n",
              "2        3        2                Q3                  Q4                 Q3   \n",
              "3        3        2                Q4                  Q4                 Q3   \n",
              "4        3        2                Q4                  Q4                 Q3   \n",
              "\n",
              "  Customer_Title  Age customer_segmentation  \n",
              "0           Gold   69        Becoming Loyal  \n",
              "1         Silver   69      Loosing Customer  \n",
              "2         Silver   69      Loosing Customer  \n",
              "3         Others   69  Almost Lost Customer  \n",
              "4         Others   69  Almost Lost Customer  "
            ],
            "text/html": [
              "\n",
              "\n",
              "  <div id=\"df-89282a11-ec91-42f4-b74c-3259ec0d17af\">\n",
              "    <div class=\"colab-df-container\">\n",
              "      <div>\n",
              "<style scoped>\n",
              "    .dataframe tbody tr th:only-of-type {\n",
              "        vertical-align: middle;\n",
              "    }\n",
              "\n",
              "    .dataframe tbody tr th {\n",
              "        vertical-align: top;\n",
              "    }\n",
              "\n",
              "    .dataframe thead th {\n",
              "        text-align: right;\n",
              "    }\n",
              "</style>\n",
              "<table border=\"1\" class=\"dataframe\">\n",
              "  <thead>\n",
              "    <tr style=\"text-align: right;\">\n",
              "      <th></th>\n",
              "      <th>customer_id</th>\n",
              "      <th>gender</th>\n",
              "      <th>DOB</th>\n",
              "      <th>past_3_years_bike_related_purchases</th>\n",
              "      <th>transaction_date</th>\n",
              "      <th>list_price</th>\n",
              "      <th>profit</th>\n",
              "      <th>Recency</th>\n",
              "      <th>Frequency</th>\n",
              "      <th>Monetary</th>\n",
              "      <th>R_Score</th>\n",
              "      <th>F_Score</th>\n",
              "      <th>M_Score</th>\n",
              "      <th>Recency_Quartiles</th>\n",
              "      <th>Frequency_Quartiles</th>\n",
              "      <th>Monetary_Quartiles</th>\n",
              "      <th>Customer_Title</th>\n",
              "      <th>Age</th>\n",
              "      <th>customer_segmentation</th>\n",
              "    </tr>\n",
              "  </thead>\n",
              "  <tbody>\n",
              "    <tr>\n",
              "      <th>0</th>\n",
              "      <td>1</td>\n",
              "      <td>Female</td>\n",
              "      <td>1953-10-12</td>\n",
              "      <td>93</td>\n",
              "      <td>2017-12-23</td>\n",
              "      <td>235.63</td>\n",
              "      <td>110.56</td>\n",
              "      <td>2045</td>\n",
              "      <td>11</td>\n",
              "      <td>9084.45</td>\n",
              "      <td>4</td>\n",
              "      <td>3</td>\n",
              "      <td>2</td>\n",
              "      <td>Q1</td>\n",
              "      <td>Q4</td>\n",
              "      <td>Q3</td>\n",
              "      <td>Gold</td>\n",
              "      <td>69</td>\n",
              "      <td>Becoming Loyal</td>\n",
              "    </tr>\n",
              "    <tr>\n",
              "      <th>1</th>\n",
              "      <td>1</td>\n",
              "      <td>Female</td>\n",
              "      <td>1953-10-12</td>\n",
              "      <td>93</td>\n",
              "      <td>2017-04-06</td>\n",
              "      <td>1577.53</td>\n",
              "      <td>751.02</td>\n",
              "      <td>2306</td>\n",
              "      <td>11</td>\n",
              "      <td>9084.45</td>\n",
              "      <td>2</td>\n",
              "      <td>3</td>\n",
              "      <td>2</td>\n",
              "      <td>Q3</td>\n",
              "      <td>Q4</td>\n",
              "      <td>Q3</td>\n",
              "      <td>Silver</td>\n",
              "      <td>69</td>\n",
              "      <td>Loosing Customer</td>\n",
              "    </tr>\n",
              "    <tr>\n",
              "      <th>2</th>\n",
              "      <td>1</td>\n",
              "      <td>Female</td>\n",
              "      <td>1953-10-12</td>\n",
              "      <td>93</td>\n",
              "      <td>2017-05-11</td>\n",
              "      <td>1720.70</td>\n",
              "      <td>189.28</td>\n",
              "      <td>2271</td>\n",
              "      <td>11</td>\n",
              "      <td>9084.45</td>\n",
              "      <td>2</td>\n",
              "      <td>3</td>\n",
              "      <td>2</td>\n",
              "      <td>Q3</td>\n",
              "      <td>Q4</td>\n",
              "      <td>Q3</td>\n",
              "      <td>Silver</td>\n",
              "      <td>69</td>\n",
              "      <td>Loosing Customer</td>\n",
              "    </tr>\n",
              "    <tr>\n",
              "      <th>3</th>\n",
              "      <td>1</td>\n",
              "      <td>Female</td>\n",
              "      <td>1953-10-12</td>\n",
              "      <td>93</td>\n",
              "      <td>2017-01-05</td>\n",
              "      <td>360.40</td>\n",
              "      <td>90.10</td>\n",
              "      <td>2397</td>\n",
              "      <td>11</td>\n",
              "      <td>9084.45</td>\n",
              "      <td>1</td>\n",
              "      <td>3</td>\n",
              "      <td>2</td>\n",
              "      <td>Q4</td>\n",
              "      <td>Q4</td>\n",
              "      <td>Q3</td>\n",
              "      <td>Others</td>\n",
              "      <td>69</td>\n",
              "      <td>Almost Lost Customer</td>\n",
              "    </tr>\n",
              "    <tr>\n",
              "      <th>4</th>\n",
              "      <td>1</td>\n",
              "      <td>Female</td>\n",
              "      <td>1953-10-12</td>\n",
              "      <td>93</td>\n",
              "      <td>2017-02-21</td>\n",
              "      <td>71.49</td>\n",
              "      <td>17.87</td>\n",
              "      <td>2350</td>\n",
              "      <td>11</td>\n",
              "      <td>9084.45</td>\n",
              "      <td>1</td>\n",
              "      <td>3</td>\n",
              "      <td>2</td>\n",
              "      <td>Q4</td>\n",
              "      <td>Q4</td>\n",
              "      <td>Q3</td>\n",
              "      <td>Others</td>\n",
              "      <td>69</td>\n",
              "      <td>Almost Lost Customer</td>\n",
              "    </tr>\n",
              "  </tbody>\n",
              "</table>\n",
              "</div>\n",
              "      <button class=\"colab-df-convert\" onclick=\"convertToInteractive('df-89282a11-ec91-42f4-b74c-3259ec0d17af')\"\n",
              "              title=\"Convert this dataframe to an interactive table.\"\n",
              "              style=\"display:none;\">\n",
              "\n",
              "  <svg xmlns=\"http://www.w3.org/2000/svg\" height=\"24px\"viewBox=\"0 0 24 24\"\n",
              "       width=\"24px\">\n",
              "    <path d=\"M0 0h24v24H0V0z\" fill=\"none\"/>\n",
              "    <path d=\"M18.56 5.44l.94 2.06.94-2.06 2.06-.94-2.06-.94-.94-2.06-.94 2.06-2.06.94zm-11 1L8.5 8.5l.94-2.06 2.06-.94-2.06-.94L8.5 2.5l-.94 2.06-2.06.94zm10 10l.94 2.06.94-2.06 2.06-.94-2.06-.94-.94-2.06-.94 2.06-2.06.94z\"/><path d=\"M17.41 7.96l-1.37-1.37c-.4-.4-.92-.59-1.43-.59-.52 0-1.04.2-1.43.59L10.3 9.45l-7.72 7.72c-.78.78-.78 2.05 0 2.83L4 21.41c.39.39.9.59 1.41.59.51 0 1.02-.2 1.41-.59l7.78-7.78 2.81-2.81c.8-.78.8-2.07 0-2.86zM5.41 20L4 18.59l7.72-7.72 1.47 1.35L5.41 20z\"/>\n",
              "  </svg>\n",
              "      </button>\n",
              "\n",
              "\n",
              "\n",
              "    <div id=\"df-f46a16ee-af81-40d0-a783-62b10236d3b9\">\n",
              "      <button class=\"colab-df-quickchart\" onclick=\"quickchart('df-f46a16ee-af81-40d0-a783-62b10236d3b9')\"\n",
              "              title=\"Suggest charts.\"\n",
              "              style=\"display:none;\">\n",
              "\n",
              "<svg xmlns=\"http://www.w3.org/2000/svg\" height=\"24px\"viewBox=\"0 0 24 24\"\n",
              "     width=\"24px\">\n",
              "    <g>\n",
              "        <path d=\"M19 3H5c-1.1 0-2 .9-2 2v14c0 1.1.9 2 2 2h14c1.1 0 2-.9 2-2V5c0-1.1-.9-2-2-2zM9 17H7v-7h2v7zm4 0h-2V7h2v10zm4 0h-2v-4h2v4z\"/>\n",
              "    </g>\n",
              "</svg>\n",
              "      </button>\n",
              "    </div>\n",
              "\n",
              "<style>\n",
              "  .colab-df-quickchart {\n",
              "    background-color: #E8F0FE;\n",
              "    border: none;\n",
              "    border-radius: 50%;\n",
              "    cursor: pointer;\n",
              "    display: none;\n",
              "    fill: #1967D2;\n",
              "    height: 32px;\n",
              "    padding: 0 0 0 0;\n",
              "    width: 32px;\n",
              "  }\n",
              "\n",
              "  .colab-df-quickchart:hover {\n",
              "    background-color: #E2EBFA;\n",
              "    box-shadow: 0px 1px 2px rgba(60, 64, 67, 0.3), 0px 1px 3px 1px rgba(60, 64, 67, 0.15);\n",
              "    fill: #174EA6;\n",
              "  }\n",
              "\n",
              "  [theme=dark] .colab-df-quickchart {\n",
              "    background-color: #3B4455;\n",
              "    fill: #D2E3FC;\n",
              "  }\n",
              "\n",
              "  [theme=dark] .colab-df-quickchart:hover {\n",
              "    background-color: #434B5C;\n",
              "    box-shadow: 0px 1px 3px 1px rgba(0, 0, 0, 0.15);\n",
              "    filter: drop-shadow(0px 1px 2px rgba(0, 0, 0, 0.3));\n",
              "    fill: #FFFFFF;\n",
              "  }\n",
              "</style>\n",
              "\n",
              "    <script>\n",
              "      async function quickchart(key) {\n",
              "        const containerElement = document.querySelector('#' + key);\n",
              "        const charts = await google.colab.kernel.invokeFunction(\n",
              "            'suggestCharts', [key], {});\n",
              "      }\n",
              "    </script>\n",
              "\n",
              "      <script>\n",
              "\n",
              "function displayQuickchartButton(domScope) {\n",
              "  let quickchartButtonEl =\n",
              "    domScope.querySelector('#df-f46a16ee-af81-40d0-a783-62b10236d3b9 button.colab-df-quickchart');\n",
              "  quickchartButtonEl.style.display =\n",
              "    google.colab.kernel.accessAllowed ? 'block' : 'none';\n",
              "}\n",
              "\n",
              "        displayQuickchartButton(document);\n",
              "      </script>\n",
              "      <style>\n",
              "    .colab-df-container {\n",
              "      display:flex;\n",
              "      flex-wrap:wrap;\n",
              "      gap: 12px;\n",
              "    }\n",
              "\n",
              "    .colab-df-convert {\n",
              "      background-color: #E8F0FE;\n",
              "      border: none;\n",
              "      border-radius: 50%;\n",
              "      cursor: pointer;\n",
              "      display: none;\n",
              "      fill: #1967D2;\n",
              "      height: 32px;\n",
              "      padding: 0 0 0 0;\n",
              "      width: 32px;\n",
              "    }\n",
              "\n",
              "    .colab-df-convert:hover {\n",
              "      background-color: #E2EBFA;\n",
              "      box-shadow: 0px 1px 2px rgba(60, 64, 67, 0.3), 0px 1px 3px 1px rgba(60, 64, 67, 0.15);\n",
              "      fill: #174EA6;\n",
              "    }\n",
              "\n",
              "    [theme=dark] .colab-df-convert {\n",
              "      background-color: #3B4455;\n",
              "      fill: #D2E3FC;\n",
              "    }\n",
              "\n",
              "    [theme=dark] .colab-df-convert:hover {\n",
              "      background-color: #434B5C;\n",
              "      box-shadow: 0px 1px 3px 1px rgba(0, 0, 0, 0.15);\n",
              "      filter: drop-shadow(0px 1px 2px rgba(0, 0, 0, 0.3));\n",
              "      fill: #FFFFFF;\n",
              "    }\n",
              "  </style>\n",
              "\n",
              "      <script>\n",
              "        const buttonEl =\n",
              "          document.querySelector('#df-89282a11-ec91-42f4-b74c-3259ec0d17af button.colab-df-convert');\n",
              "        buttonEl.style.display =\n",
              "          google.colab.kernel.accessAllowed ? 'block' : 'none';\n",
              "\n",
              "        async function convertToInteractive(key) {\n",
              "          const element = document.querySelector('#df-89282a11-ec91-42f4-b74c-3259ec0d17af');\n",
              "          const dataTable =\n",
              "            await google.colab.kernel.invokeFunction('convertToInteractive',\n",
              "                                                     [key], {});\n",
              "          if (!dataTable) return;\n",
              "\n",
              "          const docLinkHtml = 'Like what you see? Visit the ' +\n",
              "            '<a target=\"_blank\" href=https://colab.research.google.com/notebooks/data_table.ipynb>data table notebook</a>'\n",
              "            + ' to learn more about interactive tables.';\n",
              "          element.innerHTML = '';\n",
              "          dataTable['output_type'] = 'display_data';\n",
              "          await google.colab.output.renderOutput(dataTable, element);\n",
              "          const docLink = document.createElement('div');\n",
              "          docLink.innerHTML = docLinkHtml;\n",
              "          element.appendChild(docLink);\n",
              "        }\n",
              "      </script>\n",
              "    </div>\n",
              "  </div>\n"
            ]
          },
          "metadata": {},
          "execution_count": 15
        }
      ]
    },
    {
      "cell_type": "markdown",
      "source": [
        "### Visualizing Customer segmentation base on 'df_rfm'"
      ],
      "metadata": {
        "id": "omC7vE8fUA10"
      }
    },
    {
      "cell_type": "code",
      "source": [
        "# Visualize data with column charts\n",
        "plt.figure(figsize=(10, 6))\n",
        "sns.countplot(x='customer_segmentation', data=df_rfm, palette='viridis')\n",
        "plt.xlabel('Customer Segmentation')\n",
        "plt.ylabel('Number of Customers')\n",
        "plt.title('Customer Segmentation Distribution')\n",
        "plt.xticks(rotation=45)\n",
        "plt.tight_layout()\n",
        "plt.show()"
      ],
      "metadata": {
        "id": "lmBal6SB_XSH",
        "colab": {
          "base_uri": "https://localhost:8080/",
          "height": 607
        },
        "outputId": "60c16fe4-0596-4cf9-b04e-f85feef696fa"
      },
      "execution_count": 16,
      "outputs": [
        {
          "output_type": "display_data",
          "data": {
            "text/plain": [
              "<Figure size 1000x600 with 1 Axes>"
            ],
            "image/png": "[encoded data removed]"
          },
          "metadata": {}
        }
      ]
    },
    {
      "cell_type": "markdown",
      "source": [
        "### Exploration & Comaparing Old and New Customer"
      ],
      "metadata": {
        "id": "qDU5dC8unxKI"
      }
    },
    {
      "cell_type": "code",
      "source": [
        "# Read data from two files 'NewCustomer_Cleaned.csv'\n",
        "df_newcustomer = pd.read_csv('NewCustomer_Cleaned.csv', encoding='utf-8')"
      ],
      "metadata": {
        "id": "skXL8i_z_XKq"
      },
      "execution_count": 17,
      "outputs": []
    },
    {
      "cell_type": "code",
      "source": [
        "df_newcustomer.info()"
      ],
      "metadata": {
        "id": "_w-0es79_XFk",
        "colab": {
          "base_uri": "https://localhost:8080/"
        },
        "outputId": "c3a3ee36-98aa-4532-c5ee-ff7f11291fc6"
      },
      "execution_count": 18,
      "outputs": [
        {
          "output_type": "stream",
          "name": "stdout",
          "text": [
            "<class 'pandas.core.frame.DataFrame'>\n",
            "RangeIndex: 983 entries, 0 to 982\n",
            "Data columns (total 20 columns):\n",
            " #   Column                               Non-Null Count  Dtype  \n",
            "---  ------                               --------------  -----  \n",
            " 0   first_name                           983 non-null    object \n",
            " 1   last_name                            983 non-null    object \n",
            " 2   gender                               983 non-null    object \n",
            " 3   past_3_years_bike_related_purchases  983 non-null    int64  \n",
            " 4   DOB                                  983 non-null    object \n",
            " 5   job_title                            983 non-null    object \n",
            " 6   job_industry_category                983 non-null    object \n",
            " 7   wealth_segment                       983 non-null    object \n",
            " 8   deceased_indicator                   983 non-null    object \n",
            " 9   owns_car                             983 non-null    object \n",
            " 10  tenure                               983 non-null    int64  \n",
            " 11  address                              983 non-null    object \n",
            " 12  postcode                             983 non-null    int64  \n",
            " 13  state                                983 non-null    object \n",
            " 14  country                              983 non-null    object \n",
            " 15  property_valuation                   983 non-null    int64  \n",
            " 16  Rank                                 983 non-null    int64  \n",
            " 17  Value                                983 non-null    float64\n",
            " 18  Age                                  983 non-null    int64  \n",
            " 19  Age_Group                            983 non-null    int64  \n",
            "dtypes: float64(1), int64(7), object(12)\n",
            "memory usage: 153.7+ KB\n"
          ]
        }
      ]
    },
    {
      "cell_type": "code",
      "source": [
        "# Convert column 'DOB' to datetime data type\n",
        "df_newcustomer['DOB'] = pd.to_datetime(df_newcustomer['DOB'])"
      ],
      "metadata": {
        "id": "QyNOBT2-_XCQ"
      },
      "execution_count": 19,
      "outputs": []
    },
    {
      "cell_type": "code",
      "source": [
        "df_newcustomer[['Rank','Value']].value_counts()"
      ],
      "metadata": {
        "colab": {
          "base_uri": "https://localhost:8080/"
        },
        "id": "rAIIX7vgmPG4",
        "outputId": "bf48f058-6400-400b-f7f1-c2088f38ce72"
      },
      "execution_count": 20,
      "outputs": [
        {
          "output_type": "execute_result",
          "data": {
            "text/plain": [
              "Rank  Value   \n",
              "760   0.637500    13\n",
              "259   1.062500    12\n",
              "455   0.892500     9\n",
              "386   0.945625     9\n",
              "133   1.237500     9\n",
              "                  ..\n",
              "602   0.773500     1\n",
              "794   0.605625     1\n",
              "793   0.610938     1\n",
              "603   0.770312     1\n",
              "1000  0.340000     1\n",
              "Length: 324, dtype: int64"
            ]
          },
          "metadata": {},
          "execution_count": 20
        }
      ]
    },
    {
      "cell_type": "markdown",
      "source": [
        "### Correlation coefficient between two columns 'Rank' and 'Value'"
      ],
      "metadata": {
        "id": "uIiGKzVrnmPy"
      }
    },
    {
      "cell_type": "code",
      "source": [
        "# Visualize the correlation between 'Rank' and 'Value' using a scatter plot\n",
        "plt.figure(figsize=(8, 6))\n",
        "sns.scatterplot(data=df_newcustomer, x='Rank', y='Value')\n",
        "plt.title(\"Scatter Plot: Rank vs. Value\")\n",
        "plt.xlabel(\"Rank\")\n",
        "plt.ylabel(\"Value\")\n",
        "plt.show()\n",
        "\n",
        "# Calculate Pearson correlation coefficient between 'Rank' and 'Value'\n",
        "correlation_coefficient = df_newcustomer['Rank'].corr(df_newcustomer['Value'])\n",
        "print(f\"Pearson correlation coefficient between 'Rank' and 'Value': {correlation_coefficient}\")\n"
      ],
      "metadata": {
        "colab": {
          "base_uri": "https://localhost:8080/",
          "height": 581
        },
        "id": "jPz6rugGmPJ9",
        "outputId": "9bdbf8a4-8ca2-4298-9b2c-6fe54bbdce38"
      },
      "execution_count": 21,
      "outputs": [
        {
          "output_type": "display_data",
          "data": {
            "text/plain": [
              "<Figure size 800x600 with 1 Axes>"
            ],
            "image/png": "[encoded data removed]"
          },
          "metadata": {}
        },
        {
          "output_type": "stream",
          "name": "stdout",
          "text": [
            "Pearson correlation coefficient between 'Rank' and 'Value': -0.9840015999360192\n"
          ]
        }
      ]
    },
    {
      "cell_type": "markdown",
      "source": [
        "Based on the Pearson correlation coefficient between two columns 'Rank' and 'Value', which is -0.9840015999360192, we can see that these two columns strongly correlate. The value of this correlation coefficient is close to -1; when the value of 'Rank' increases, the value of 'Value' decreases and vice versa.\n",
        "\n",
        "This strong correlation can cause a strong covariate between 'Rank' and 'Value', causing the information in these two columns to overlap and not bring much new information. Keeping these two columns can make the RFM model unbalanced and quickly lead to overfitting, as well as increase the complexity of the model.\n",
        "\n",
        "Therefore, the decision to drop two columns, 'Rank' and 'Value' is reasonable and will help build the RFM model and customer segmentation more efficiently and accurately."
      ],
      "metadata": {
        "id": "nczzRAponn1w"
      }
    },
    {
      "cell_type": "code",
      "source": [
        "# Drop two columns 'Rank' and 'Value' in DataFrame 'df_new_customer'\n",
        "df_newcustomer = df_newcustomer.drop(['Rank', 'Value'], axis=1)"
      ],
      "metadata": {
        "id": "nezZ80bemPNF"
      },
      "execution_count": 22,
      "outputs": []
    },
    {
      "cell_type": "markdown",
      "source": [
        "### Comparing Age of Old & New customers"
      ],
      "metadata": {
        "id": "vxWIaCz_oQHm"
      }
    },
    {
      "cell_type": "code",
      "source": [
        "# Divide age groups and draw a chart to count the number of customers by age group (Age Group)\n",
        "age_bins = [0, 20, 30, 40, 50, 60, 70, 80, 90]\n",
        "age_labels = ['20', '30', '40', '50', '60', '70', '80', '90']\n",
        "df_rfm['Age_Group'] = pd.cut(df_rfm['Age'], bins=age_bins, labels=age_labels)\n",
        "\n",
        "plt.figure(figsize=(12, 6))\n",
        "\n",
        "# Create the first subplot for df_rfm's age-group distribution chart\n",
        "plt.subplot(1, 2, 1)\n",
        "sns.countplot(x='Age_Group', data=df_rfm, palette='magma')\n",
        "plt.xlabel('Age Group')\n",
        "plt.ylabel('Number of Customers')\n",
        "plt.title('Age Group Distribution of old customers')\n",
        "\n",
        "# Create a second subplot for df_newcustomer's chart of new customers by age group\n",
        "plt.subplot(1, 2, 2)\n",
        "sns.countplot(data=df_newcustomer, x='Age_Group', palette='viridis')\n",
        "plt.title('Age Group Distribution of new customers')\n",
        "plt.xlabel('Age Group')\n",
        "plt.ylabel('Number of Customers')\n",
        "\n",
        "plt.tight_layout() # To avoid crowding out information between subplots\n",
        "plt.show()"
      ],
      "metadata": {
        "colab": {
          "base_uri": "https://localhost:8080/",
          "height": 607
        },
        "id": "wtaZJUXkmPQB",
        "outputId": "aa2d545a-16ad-4ec6-a0ee-af4a0688880b"
      },
      "execution_count": 23,
      "outputs": [
        {
          "output_type": "display_data",
          "data": {
            "text/plain": [
              "<Figure size 1200x600 with 2 Axes>"
            ],
            "image/png": "[encoded data removed]"
          },
          "metadata": {}
        }
      ]
    },
    {
      "cell_type": "markdown",
      "source": [
        "### Exporting df_rfm file"
      ],
      "metadata": {
        "id": "q-i-fjJ2qtpl"
      }
    },
    {
      "cell_type": "code",
      "source": [
        "# Lưu DataFrame df_rfm vào file Excel\n",
        "df_rfm.to_excel('df_rfm.xlsx', index=False)"
      ],
      "metadata": {
        "id": "--nWd6ydrA6W"
      },
      "execution_count": 24,
      "outputs": []
    }
  ]
}